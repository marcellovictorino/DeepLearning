{
 "cells": [
  {
   "cell_type": "markdown",
   "metadata": {},
   "source": [
    "# Neural Networks form Scratch\n",
    "\n",
    "Neural networks with non-linear activations work like universal function approximators. There is some function that maps your input to the output. For example, images of handwritten digits to class probabilities. The power of neural networks is that we can train them to approximate any function given enough data and compute time.\n",
    "\n",
    "At first the network is naive, it doesn't know the function mapping the inputs to the outputs. We train the network by showing it examples of real data, then adjusting the network parameters such that it approximates this function.\n",
    "\n",
    "To find these parameters, we need to know how poorly the network is predicting the real outputs. For this we calculate a **loss function** (also called the cost), a measure of our prediction error. \n",
    "\n",
    "By minimizing this loss with respect to the network parameters, we can find configurations where the loss is at a minimum and the network is able to predict the correct labels with high accuracy. We find this minimum using a process called **gradient descent**. \n",
    "\n",
    "The gradient is the slope of the loss function and points in the direction of fastest change. To get to the minimum in the least amount of time, we then want to follow the gradient (downwards)."
   ]
  },
  {
   "cell_type": "markdown",
   "metadata": {},
   "source": [
    "## Backpropagation\n",
    "\n",
    "Training multilayer networks is done through **backpropagation** which is really just an application of the chain rule from calculus. \n",
    "\n",
    "In the forward pass through the network, our data and operations go from bottom to top here. We pass the input $x$ through a linear transformation $L_1$ with weights $W_1$ and biases $b_1$. The output then goes through the sigmoid operation $S$ and another linear transformation $L_2$. Finally we calculate the loss $\\ell$. We use the loss as a measure of how bad the network's predictions are. The goal then is to adjust the weights and biases to minimize the loss.\n",
    "\n",
    "To train the weights with gradient descent, we propagate the gradient of the loss backwards through the network. Each operation has some gradient between the inputs and outputs. As we send the gradients backwards, we multiply the incoming gradient with the gradient for the operation. Mathematically, this is really just calculating the gradient of the loss with respect to the weights using the chain rule.\n",
    "\n",
    "$$\n",
    "\\large \\frac{\\partial \\ell}{\\partial W_1} = \\frac{\\partial L_1}{\\partial W_1} \\frac{\\partial S}{\\partial L_1} \\frac{\\partial L_2}{\\partial S} \\frac{\\partial \\ell}{\\partial L_2}\n",
    "$$\n",
    "\n",
    "\n",
    "The weights are updates using this gradient, scaled by a learning rate $\\alpha$. \n",
    "\n",
    "$$\n",
    "\\large W^\\prime_1 = W_1 - \\alpha \\frac{\\partial \\ell}{\\partial W_1}\n",
    "$$\n",
    "\n",
    "The learning rate $\\alpha$ is set such that the weight update steps are small enough that the iterative method settles in a minimum."
   ]
  },
  {
   "cell_type": "markdown",
   "metadata": {},
   "source": [
    "## Losses in PyTorch\n",
    "\n",
    "Through the `nn` module, PyTorch provides losses such as the Negative Log-likelihood loss (`nn.NLLLoss()`). Usually the loss is assigned to a variable named `criterion`. \n",
    "\n",
    "With a classification problem such as MNIST, the softmax function is used to predict class **probabilities**.\n",
    "\n",
    "This means we need to pass in the raw output of our network into the loss, not the output of the softmax function. This raw output is usually called the *logits* or *scores*. We use the logits because softmax gives you probabilities which will often be very close to zero or one but floating-point numbers can't accurately represent values near zero or one ([read more here](https://docs.python.org/3/tutorial/floatingpoint.html)). \n",
    "\n",
    "> **Note:** It's usually best to avoid doing calculations with probabilities, typically we use log-probabilities."
   ]
  },
  {
   "cell_type": "code",
   "execution_count": 30,
   "metadata": {},
   "outputs": [],
   "source": [
    "import torch\n",
    "from torch import nn\n",
    "# import torch.nn.functional as F # Used when defining a Class\n",
    "from torchvision import datasets, transforms\n",
    "from torch import optim\n",
    "\n",
    "from time import time\n",
    "import matplotlib.pyplot as plt\n",
    "\n",
    "%matplotlib inline\n",
    "\n",
    "# Define a transform to normalize the data\n",
    "transform = transforms.Compose([transforms.ToTensor(),\n",
    "                                transforms.Normalize(mean=[0.5], std=[0.5]),\n",
    "                              ])\n",
    "\n",
    "# Download and load the training data\n",
    "train_set = datasets.MNIST('~/.pytorch/MNIST_data/', download=True, train=True, transform=transform)\n",
    "train_loader = torch.utils.data.DataLoader(train_set, batch_size=64, shuffle=True)"
   ]
  },
  {
   "cell_type": "markdown",
   "metadata": {},
   "source": [
    "It is recommended to build the model with a log-softmax output using `nn.LogSoftmax` or `F.log_softmax` ([documentation](https://pytorch.org/docs/stable/nn.html#torch.nn.LogSoftmax)). \n",
    "\n",
    "The actual probabilites can be obtained by taking the exponential `torch.exp(output)`:\n",
    "$$P(x) = \\exp^{(output)} $$\n",
    "\n",
    "With a log-softmax output, you want to use the negative log likelihood loss, `nn.NLLLoss` ([documentation](https://pytorch.org/docs/stable/nn.html#torch.nn.NLLLoss))."
   ]
  },
  {
   "cell_type": "markdown",
   "metadata": {},
   "source": [
    "# Backpropagation"
   ]
  },
  {
   "cell_type": "markdown",
   "metadata": {},
   "source": [
    "## Autograd\n",
    "\n",
    "Use the loss to perform backpropagation in order to calibrate the weights.\n",
    "> Torch provides a module, `autograd`, for automatically calculating the gradients of tensors. \n",
    "\n",
    "`Autograd` works by keeping track of operations performed on tensors, then going backwards through those operations, calculating gradients along the way. \n",
    "\n",
    "You can turn on or off gradients altogether with `torch.set_grad_enabled(True|False)`, using a content manager `with`"
   ]
  },
  {
   "cell_type": "markdown",
   "metadata": {},
   "source": [
    "## Training the network!\n",
    "\n",
    "There's one last piece we need to start training, an optimizer that we'll use to update the weights with the gradients. We get these from PyTorch's [`optim` package](https://pytorch.org/docs/stable/optim.html). For example we can use stochastic gradient descent with `optim.SGD`. You can see how to define an optimizer below."
   ]
  },
  {
   "cell_type": "markdown",
   "metadata": {},
   "source": [
    "### Summing up:\n",
    "1. Run data through the network (Feed forward) to obtain an output (prediction/classification) \n",
    "2. Calculate the loss based on the output and known value\n",
    "3. Backpropagate the loss (`loss.backward()`), calculating the gradients for each step. Once we have the gradients, we can make a gradient descent step for each weight. \n",
    "4. Using the Optimizer, perform a gradient descent step in the direction that minimizes the error, updating the weights.\n",
    "\n",
    "> **Note**: while training, the model will repeat the previous steps multiple times. It is critical to zero the gradients (`optimizer.zero_grad()`) on each training pass, otherwise it will retain gradients from previous steps."
   ]
  },
  {
   "cell_type": "markdown",
   "metadata": {},
   "source": [
    "### Training the Neural Network\n",
    "\n",
    "Now we will train the network for all the images.\n",
    "\n",
    "**Epoch**: one pass through the entire dataset.\n",
    "**Batch**: while looping through the `train_loader`, specify how many images will be used at a time.\n",
    "\n",
    "For each batch, we perform a training pass: \n",
    "+ calculate the loss\n",
    "+ do a backwards pass\n",
    "+ update the weights"
   ]
  },
  {
   "cell_type": "code",
   "execution_count": 19,
   "metadata": {},
   "outputs": [
    {
     "name": "stdout",
     "output_type": "stream",
     "text": [
      "Training loss: 1.8750 | Time: 8 sec\n",
      "Training loss: 0.8423 | Time: 16 sec\n",
      "Training loss: 0.5165 | Time: 25 sec\n",
      "Training loss: 0.4265 | Time: 33 sec\n",
      "Training loss: 0.3848 | Time: 41 sec\n",
      "Training loss: 0.3598 | Time: 50 sec\n",
      "Training loss: 0.3423 | Time: 58 sec\n",
      "Training loss: 0.3285 | Time: 66 sec\n",
      "Training loss: 0.3171 | Time: 75 sec\n",
      "Training loss: 0.3075 | Time: 83 sec\n"
     ]
    }
   ],
   "source": [
    "input_vector = 28*28 # size of 28 by 28 pixel image, flattened to a single vector\n",
    "output_classes = 10 #total classes to be predicted\n",
    "\n",
    "model = nn.Sequential(nn.Linear(input_vector, 128),\n",
    "                      nn.ReLU(),\n",
    "                      nn.Linear(128, 64),\n",
    "                      nn.ReLU(),\n",
    "                      nn.Linear(64, output_classes),\n",
    "                      nn.LogSoftmax(dim=1)) # Calculate along Columns, so each row sums 1\n",
    "\n",
    "criterion = nn.NLLLoss() # Negative Log-likelihood loss\n",
    "optimizer = optim.SGD(model.parameters(), lr=0.003)\n",
    "\n",
    "epochs = 10\n",
    "batch_size = len(train_loader)\n",
    "\n",
    "start = time()\n",
    "for epoch in range(epochs):\n",
    "    running_loss = 0\n",
    "    for images, labels in train_loader:\n",
    "        # Flatten MNIST images into a 784 long vector\n",
    "        images = images.view(images.shape[0], -1)\n",
    "    \n",
    "        # Reset the optimizer\n",
    "        optimizer.zero_grad()\n",
    "        \n",
    "        output = model.forward(images)\n",
    "        loss = criterion(output, labels)\n",
    "        loss.backward()\n",
    "        optimizer.step()\n",
    "        \n",
    "        running_loss += loss.item()\n",
    "        elapsed = time()\n",
    "    \n",
    "    print(f\"Training loss: {running_loss/batch_size :.4f} | Time: {elapsed-start :.0f} sec\")"
   ]
  },
  {
   "cell_type": "markdown",
   "metadata": {},
   "source": [
    "With the network trained, we can check out it's predictions."
   ]
  },
  {
   "cell_type": "code",
   "execution_count": 56,
   "metadata": {},
   "outputs": [],
   "source": [
    "def view_classify(image, probability):\n",
    "    # Preparing data to be used\n",
    "    probability = probability.data.numpy().squeeze() # remove batch information\n",
    "    image = img.resize(1,28,28) # from flatten to matrix structure\n",
    "    image = image.numpy().squeeze() # remove batch information\n",
    "    \n",
    "    # Plotting actual image and Classification Probabilities\n",
    "    fig, axes = plt.subplots(figsize=(6,9), ncols=2)\n",
    "\n",
    "    axes[0].imshow(image)\n",
    "    axes[0].axis('off')\n",
    "    axes[0].set_title('Actual Image')\n",
    "\n",
    "    axes[1].barh(range(10), probability)\n",
    "    axes[1].set_aspect(0.1)\n",
    "    axes[1].set_yticks(range(10))\n",
    "    axes[1].set_yticklabels(range(10))\n",
    "    axes[1].set_xlim(0,1)\n",
    "    axes[1].set_title('Class Probability')\n",
    "    plt.tight_layout();\n",
    "\n",
    "    # Print Classification\n",
    "    highest_class = probability.argmax() # returns index with highest value\n",
    "    print(f'Predicted Digit: {highest_class} | Likelihood: {probability[highest_class]:.2%}')"
   ]
  },
  {
   "cell_type": "markdown",
   "metadata": {},
   "source": [
    "### Classify and Visualize"
   ]
  },
  {
   "cell_type": "code",
   "execution_count": 64,
   "metadata": {},
   "outputs": [
    {
     "name": "stdout",
     "output_type": "stream",
     "text": [
      "Predicted Digit: 2 | Likelihood: 99.08%\n"
     ]
    },
    {
     "data": {
      "image/png": "[encoded data removed]",
      "text/plain": [
       "<matplotlib.figure.Figure at 0x1f05e9ae8d0>"
      ]
     },
     "metadata": {
      "needs_background": "light"
     },
     "output_type": "display_data"
    }
   ],
   "source": [
    "\n",
    "for images, labels in train_loader:\n",
    "\n",
    "    img = images[0].view(1, 784) # Flatten image into vector\n",
    "    \n",
    "    # Turn off gradients to speed up this part\n",
    "    with torch.no_grad():\n",
    "        logit = model.forward(img)\n",
    "\n",
    "    # Output of the network are logits, need to take softmax for probabilities\n",
    "    probability = torch.exp(logit)\n",
    "    \n",
    "view_classify(img, probability)"
   ]
  }
 ],
 "metadata": {
  "kernelspec": {
   "display_name": "Python 3",
   "language": "python",
   "name": "python3"
  },
  "language_info": {
   "codemirror_mode": {
    "name": "ipython",
    "version": 3
   },
   "file_extension": ".py",
   "mimetype": "text/x-python",
   "name": "python",
   "nbconvert_exporter": "python",
   "pygments_lexer": "ipython3",
   "version": "3.6.4"
  },
  "varInspector": {
   "cols": {
    "lenName": 16,
    "lenType": 16,
    "lenVar": 40
   },
   "kernels_config": {
    "python": {
     "delete_cmd_postfix": "",
     "delete_cmd_prefix": "del ",
     "library": "var_list.py",
     "varRefreshCmd": "print(var_dic_list())"
    },
    "r": {
     "delete_cmd_postfix": ") ",
     "delete_cmd_prefix": "rm(",
     "library": "var_list.r",
     "varRefreshCmd": "cat(var_dic_list()) "
    }
   },
   "types_to_exclude": [
    "module",
    "function",
    "builtin_function_or_method",
    "instance",
    "_Feature"
   ],
   "window_display": false
  }
 },
 "nbformat": 4,
 "nbformat_minor": 2
}

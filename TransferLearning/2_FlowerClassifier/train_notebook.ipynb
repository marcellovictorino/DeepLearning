{
 "cells": [
  {
   "cell_type": "markdown",
   "metadata": {},
   "source": [
    "[Reference](https://github.com/fotisk07/Image-Classifier)\n",
    "\n",
    "[ArgParse Documentation](https://docs.python.org/3/library/argparse.html)"
   ]
  },
  {
   "cell_type": "code",
   "execution_count": 8,
   "metadata": {},
   "outputs": [],
   "source": [
    "# Import required libraries\n",
    "import argparse\n",
    "import train_utils"
   ]
  },
  {
   "cell_type": "code",
   "execution_count": 7,
   "metadata": {},
   "outputs": [
    {
     "data": {
      "text/plain": [
       "_StoreAction(option_strings=['--dropout'], dest='dropout', nargs=None, const=None, default=0.5, type=None, choices=None, help='layer dropout probability during training', metavar=None)"
      ]
     },
     "execution_count": 7,
     "metadata": {},
     "output_type": "execute_result"
    }
   ],
   "source": [
    "describe_train = \"\"\"Solution to implement Transfer Learning technique, allowing the user to\n",
    "specify different neural network architectures, hyperparameters, and others\n",
    "\"\"\"\n",
    "# Instantiate Parser to listen for CLI inputs\n",
    "ap = argparse.ArgumentParser(description=describe_train)\n",
    "\n",
    "# Add Arguments for special functionalities\n",
    "# Required argument\n",
    "ap.add_argument('data_dir', type=str, help='folder with proper data training structure')\n",
    "\n",
    "# Optionl arguments\n",
    "ap.add_argument('--arch', type=str, help='specify NN architecture: vgg16, resnet50', default='resnet50')\n",
    "ap.add_argument('--gpu', help='either GPU or CPU usage', default='GPU')\n",
    "ap.add_argument('--learning_rate', type=float, help='set learning rate', default=0.001)\n",
    "ap.add_argument('--hidden_units', type=int, help='number of hidden layers before first activation function', default=2048)\n",
    "ap.add_argument('--epochs', type=int, help='number of complete dataset iterations', default=5)\n",
    "ap.add_argument('--dropout', type=float, help='layer dropout probability during training', default=0.5)\n",
    "ap.add_argument('--save_dir', help='directory to save checkpoint file once training is complete', default='checkpoints')\n",
    "\n",
    "# Read arguments from command line\n",
    "arg = ap.parse_args()\n",
    "\n",
    "data_dir = arg.data_dir\n",
    "save_dir = arg.save_dir\n",
    "arch = arg.arch\n",
    "lr = arg.learning_rate\n",
    "hidden_units = arg.hidden_units\n",
    "gpu = arg.gpu\n",
    "epochs = arg.epochs\n",
    "dropout = arg.dropout"
   ]
  },
  {
   "cell_type": "code",
   "execution_count": null,
   "metadata": {},
   "outputs": [],
   "source": [
    "# 1) load data\n",
    "print('Loading data...')\n",
    "train_loader, valid_loader, test_loader, class_to_idx = train_utils.load_data(data_dir, arch)"
   ]
  },
  {
   "cell_type": "code",
   "execution_count": null,
   "metadata": {},
   "outputs": [],
   "source": [
    "# 2) Activate GPU if available\n",
    "device = train_utils.activate_gpu(gpu)"
   ]
  },
  {
   "cell_type": "code",
   "execution_count": null,
   "metadata": {},
   "outputs": [],
   "source": [
    "# 3) Set Artificial Neural Network to be trained based on user input\n",
    "model, optimizer, criterion = train_utils.set_nn(class_to_idx, arch, hidden_units, dropout, lr)"
   ]
  },
  {
   "cell_type": "code",
   "execution_count": null,
   "metadata": {},
   "outputs": [],
   "source": [
    "# 4) Actually train the ANN and save summary results to log file\n",
    "print('Training...')\n",
    "model = train_utils.train_nn(model, optimizer, criterion, train_loader, valid_loader, test_loader, device, epochs)"
   ]
  },
  {
   "cell_type": "code",
   "execution_count": null,
   "metadata": {},
   "outputs": [],
   "source": [
    "# 5) Save best model checkpoint for future loading\n",
    "train_utils.save_checkpoint(model, optimizer, save_dir)\n",
    "print('Model saved. Training Completed!')"
   ]
  }
 ],
 "metadata": {
  "kernelspec": {
   "display_name": "Python 3",
   "language": "python",
   "name": "python3"
  },
  "language_info": {
   "codemirror_mode": {
    "name": "ipython",
    "version": 3
   },
   "file_extension": ".py",
   "mimetype": "text/x-python",
   "name": "python",
   "nbconvert_exporter": "python",
   "pygments_lexer": "ipython3",
   "version": "3.6.3"
  }
 },
 "nbformat": 4,
 "nbformat_minor": 2
}

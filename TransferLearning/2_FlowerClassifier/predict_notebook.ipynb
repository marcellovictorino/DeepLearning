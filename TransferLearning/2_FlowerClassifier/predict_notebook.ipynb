{
 "cells": [
  {
   "cell_type": "code",
   "execution_count": 8,
   "metadata": {},
   "outputs": [],
   "source": [
    "# Import required libraries\n",
    "import argparse\n",
    "import train_utils\n",
    "import image_utils"
   ]
  },
  {
   "cell_type": "code",
   "execution_count": 7,
   "metadata": {},
   "outputs": [
    {
     "data": {
      "text/plain": [
       "_StoreAction(option_strings=['--dropout'], dest='dropout', nargs=None, const=None, default=0.5, type=None, choices=None, help='layer dropout probability during training', metavar=None)"
      ]
     },
     "execution_count": 7,
     "metadata": {},
     "output_type": "execute_result"
    }
   ],
   "source": [
    "describe_predict = \"\"\"Solution to implement Transfer Learning technique, allowing the user to\n",
    "classify images using an existing checkpoint file as reference\n",
    "\"\"\"\n",
    "# Instantiate Parser to listen for CLI inputs\n",
    "ap = argparse.ArgumentParser(description=describe_predict)\n",
    "\n",
    "# Add Arguments for special functionalities\n",
    "# Required argument\n",
    "ap.add_argument('image_file', type=str, help='path to image to be classified')\n",
    "ap.add_argument('checkpoint', type=str, help='previously trained model to be loaded')\n",
    "\n",
    "# Optionl arguments\n",
    "ap.add_argument('--top_k', type=int, help='returns the predicted label and its probability of the Top K classes. Default to 5', default=5)\n",
    "ap.add_argument('--category_names', type=str, help='JSON file mapping the categories to real label names', default='cat_to_name.json')\n",
    "ap.add_argument('--gpu', type=str, help='either GPU or CPU for inference. Default to GPU', default='GPU')\n",
    "\n",
    "# Read arguments from command line\n",
    "arg = ap.parse_args()\n",
    "\n",
    "image_file = arg.image_file\n",
    "checkpoint_file = arg.checkpoint\n",
    "gpu = arg.gpu\n",
    "topk = arg.top_k\n",
    "cat_to_name = arg.category_names"
   ]
  },
  {
   "cell_type": "code",
   "execution_count": null,
   "metadata": {},
   "outputs": [],
   "source": [
    "# 1) load Checkpoint\n",
    "print('Loading checkpoint...')\n",
    "model, optimizer, criterion, checkpoint = image_utils.load_checkpoint(checkpoint_file)"
   ]
  },
  {
   "cell_type": "code",
   "execution_count": null,
   "metadata": {},
   "outputs": [],
   "source": [
    "# 2) Activate GPU if available\n",
    "device = train_utils.activate_gpu(gpu)"
   ]
  },
  {
   "cell_type": "code",
   "execution_count": null,
   "metadata": {},
   "outputs": [],
   "source": [
    "# 3) Load mapping from category to label name\n",
    "cat_to_name = image_utils.load_cat_to_name(cat_to_name)"
   ]
  },
  {
   "cell_type": "code",
   "execution_count": null,
   "metadata": {},
   "outputs": [],
   "source": [
    "# 4) Run image through model and make prediction\n",
    "print(f'Classifying image: {image_file}\\n')\n",
    "top_p, top_cat, top_name = image_utils.predict(image_file, model, device, cat_to_name, topk)\n",
    "\n",
    "for i in enumerate(zip(top_p, top_cat, top_name)):\n",
    "    print(f'Top {i[0]}) Name: {i[1][2]} | Class: {i[1][1]} | Probability: {i[1][0]:.2%}')"
   ]
  }
 ],
 "metadata": {
  "kernelspec": {
   "display_name": "Python 3",
   "language": "python",
   "name": "python3"
  },
  "language_info": {
   "codemirror_mode": {
    "name": "ipython",
    "version": 3
   },
   "file_extension": ".py",
   "mimetype": "text/x-python",
   "name": "python",
   "nbconvert_exporter": "python",
   "pygments_lexer": "ipython3",
   "version": "3.6.4"
  },
  "varInspector": {
   "cols": {
    "lenName": 16,
    "lenType": 16,
    "lenVar": 40
   },
   "kernels_config": {
    "python": {
     "delete_cmd_postfix": "",
     "delete_cmd_prefix": "del ",
     "library": "var_list.py",
     "varRefreshCmd": "print(var_dic_list())"
    },
    "r": {
     "delete_cmd_postfix": ") ",
     "delete_cmd_prefix": "rm(",
     "library": "var_list.r",
     "varRefreshCmd": "cat(var_dic_list()) "
    }
   },
   "types_to_exclude": [
    "module",
    "function",
    "builtin_function_or_method",
    "instance",
    "_Feature"
   ],
   "window_display": false
  }
 },
 "nbformat": 4,
 "nbformat_minor": 2
}
